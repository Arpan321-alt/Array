{
 "cells": [
  {
   "cell_type": "code",
   "execution_count": 1,
   "id": "1ae65441",
   "metadata": {},
   "outputs": [
    {
     "data": {
      "text/plain": [
       "'1. Given an array, check if it contains any duplicates or not.\\narr = [1, 2, 4, 2, 5, 9]\\nOutput = True\\n\\n2. Given an array and an integer k, rotate the array to the right by k steps.\\narr = [1, 2, 3, 4, 5, 6, 7] k = 3\\nOutput = [5, 6, 7, 1, 2, 3, 4]\\n\\n3. Reverse the given array in-place, means without using any extra data structure.\\narr = [2, 4, 5, 7, 9, 12]\\nOutput = [12, 9, 7, 5, 4, 2]\\n\\n4. Given an array of integers, find the maximum element in an array\\narr = [10, 5, 20, 8, 15]\\nOutput = 20\\n\\n5. Given a sorted array, remove the duplicate element without using any extra data structure.\\narr = [1, 1, 2, 2, 2, 3, 3, 4, 4, 4, 5, 5]\\nOutput = [1, 2, 3, 4, 5]'"
      ]
     },
     "execution_count": 1,
     "metadata": {},
     "output_type": "execute_result"
    }
   ],
   "source": [
    "'''1. Given an array, check if it contains any duplicates or not.\n",
    "arr = [1, 2, 4, 2, 5, 9]\n",
    "Output = True\n",
    "\n",
    "2. Given an array and an integer k, rotate the array to the right by k steps.\n",
    "arr = [1, 2, 3, 4, 5, 6, 7] k = 3\n",
    "Output = [5, 6, 7, 1, 2, 3, 4]\n",
    "\n",
    "3. Reverse the given array in-place, means without using any extra data structure.\n",
    "arr = [2, 4, 5, 7, 9, 12]\n",
    "Output = [12, 9, 7, 5, 4, 2]\n",
    "\n",
    "4. Given an array of integers, find the maximum element in an array\n",
    "arr = [10, 5, 20, 8, 15]\n",
    "Output = 20\n",
    "\n",
    "5. Given a sorted array, remove the duplicate element without using any extra data structure.\n",
    "arr = [1, 1, 2, 2, 2, 3, 3, 4, 4, 4, 5, 5]\n",
    "Output = [1, 2, 3, 4, 5]'''"
   ]
  },
  {
   "cell_type": "code",
   "execution_count": 62,
   "id": "2c9d47f6",
   "metadata": {},
   "outputs": [
    {
     "name": "stdout",
     "output_type": "stream",
     "text": [
      "True\n"
     ]
    }
   ],
   "source": [
    "#1.time comlexity is o(N^2)\n",
    "arr=[1,2,4,5,2]\n",
    "duplicate=False\n",
    "for i in range(len(arr)):\n",
    "    for j in range(i+1,len(arr)):\n",
    "        if arr[i]==arr[j]:\n",
    "            duplicate=True\n",
    "            break\n",
    "    if duplicate:\n",
    "        print(duplicate)\n",
    "        break\n",
    "    elif i==j:\n",
    "        print(duplicate)\n",
    "        break\n",
    "            \n",
    "        "
   ]
  },
  {
   "cell_type": "code",
   "execution_count": 63,
   "id": "c455b9ca",
   "metadata": {},
   "outputs": [
    {
     "name": "stdout",
     "output_type": "stream",
     "text": [
      "True\n"
     ]
    }
   ],
   "source": [
    "#1.By sorting method:- time complexity is o(n)\n",
    "arr=[1,2,3,4,5,6,2,7,9]\n",
    "arr.sort()\n",
    "for i in range(len(arr)-1):\n",
    "    if arr[i]==arr[i+1]:\n",
    "        print(True)\n",
    "        break\n",
    "    elif i+2==len(arr):\n",
    "        print(False)"
   ]
  },
  {
   "cell_type": "code",
   "execution_count": 67,
   "id": "b340e06f",
   "metadata": {},
   "outputs": [
    {
     "name": "stdout",
     "output_type": "stream",
     "text": [
      "[4, 5, 6, 7, 1, 2, 3]\n"
     ]
    }
   ],
   "source": [
    "#2.2. Given an array and an integer k, rotate the array to the right by k steps.\n",
    "#time complexity is o(n)\n",
    "\n",
    "'''I have taken a new array '''\n",
    "'''eg if k==3 . I deduct size of the array to no of steps becuase in this way we will get how many elements in left side'''\n",
    "'''after this deduction I have assign no of steps of elements in the new array'''\n",
    "'''and then. I assign all left side elements of old array into the new array'''\n",
    "\n",
    "arr = [1, 2, 3, 4, 5, 6, 7] \n",
    "k = 4\n",
    "Output = [5, 6, 7, 1, 2, 3, 4]\n",
    "new_arr=[]\n",
    "\n",
    "for i in range(len(arr)-k,len(arr)):\n",
    "    new_arr.append(arr[i])\n",
    "for j in range(len(arr)-k):\n",
    "    new_arr.append(arr[j])\n",
    "print(new_arr)"
   ]
  },
  {
   "cell_type": "code",
   "execution_count": 68,
   "id": "f05bbd91",
   "metadata": {},
   "outputs": [
    {
     "name": "stdout",
     "output_type": "stream",
     "text": [
      "[12, 9, 7, 5, 4, 2]\n"
     ]
    }
   ],
   "source": [
    "#3.3. Reverse the given array in-place, means without using any extra data structure.\n",
    "arr = [2, 4, 5, 7, 9, 12]\n",
    "#it will be solved by swapping method\n",
    "\n",
    "for i in range(len(arr)//2):\n",
    "    j=len(arr)-i-1\n",
    "    temp=arr[i]\n",
    "    arr[i]=arr[j]\n",
    "    arr[j]=temp\n",
    "print(arr)"
   ]
  },
  {
   "cell_type": "code",
   "execution_count": 69,
   "id": "e1888971",
   "metadata": {},
   "outputs": [
    {
     "name": "stdout",
     "output_type": "stream",
     "text": [
      "20\n"
     ]
    }
   ],
   "source": [
    "#4.4. Given an array of integers, find the maximum element in an array\n",
    "arr = [10, 5, 20, 8, 15]\n",
    "Output = 20\n",
    "max1=0\n",
    "for i in range(len(arr)):\n",
    "    if arr[i]>max1:\n",
    "        max1=arr[i]\n",
    "print(max1)"
   ]
  },
  {
   "cell_type": "code",
   "execution_count": 84,
   "id": "8be1dbbc",
   "metadata": {},
   "outputs": [
    {
     "name": "stdout",
     "output_type": "stream",
     "text": [
      "[1, 2, 3, 4, 5, 2, 2, 3, 3, 4, 4, 4, 5, 5]\n"
     ]
    }
   ],
   "source": [
    "#5.Given a sorted array, remove the duplicate element without using any extra data structure.\n",
    "#time complexity is o(N)\n",
    "arr = [1, 1,1,1,2, 2, 2, 3, 3, 4, 4, 4, 5, 5]\n",
    "k=[]\n",
    "Output = [1, 2, 3, 4, 5]\n",
    "j=0\n",
    "for i in range(len(arr)-1):\n",
    "    if arr[i]!=arr[i+1]:\n",
    "        arr[j]=arr[i]\n",
    "        j=j+1\n",
    "    arr[j]=arr[len(arr)-1]\n",
    "print(arr)"
   ]
  },
  {
   "cell_type": "code",
   "execution_count": null,
   "id": "0a764a68",
   "metadata": {},
   "outputs": [],
   "source": []
  }
 ],
 "metadata": {
  "kernelspec": {
   "display_name": "Python 3 (ipykernel)",
   "language": "python",
   "name": "python3"
  },
  "language_info": {
   "codemirror_mode": {
    "name": "ipython",
    "version": 3
   },
   "file_extension": ".py",
   "mimetype": "text/x-python",
   "name": "python",
   "nbconvert_exporter": "python",
   "pygments_lexer": "ipython3",
   "version": "3.11.4"
  }
 },
 "nbformat": 4,
 "nbformat_minor": 5
}
